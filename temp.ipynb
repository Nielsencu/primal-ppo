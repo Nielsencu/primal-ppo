{
 "cells": [
  {
   "cell_type": "code",
   "execution_count": 93,
   "metadata": {},
   "outputs": [],
   "source": [
    "import numpy as np\n",
    "from mapf_gym import *\n",
    "import matplotlib.pyplot as plt\n",
    "from util import renderWorld, make_gif"
   ]
  },
  {
   "cell_type": "code",
   "execution_count": 94,
   "metadata": {},
   "outputs": [],
   "source": [
    "world = np.zeros(shape=(5,5))"
   ]
  },
  {
   "cell_type": "code",
   "execution_count": 95,
   "metadata": {},
   "outputs": [],
   "source": [
    "def isValid(testIdx, shape):\n",
    "    return (testIdx >= 0).all() and (testIdx < shape).all()"
   ]
  },
  {
   "cell_type": "code",
   "execution_count": 96,
   "metadata": {},
   "outputs": [
    {
     "name": "stdout",
     "output_type": "stream",
     "text": [
      "wrote gif\n",
      "wrote gif\n",
      "wrote gif\n",
      "wrote gif\n",
      "wrote gif\n",
      "wrote gif\n",
      "wrote gif\n",
      "wrote gif\n",
      "wrote gif\n",
      "wrote gif\n",
      "wrote gif\n",
      "wrote gif\n",
      "wrote gif\n",
      "wrote gif\n",
      "wrote gif\n",
      "wrote gif\n",
      "wrote gif\n",
      "wrote gif\n",
      "wrote gif\n",
      "wrote gif\n",
      "wrote gif\n",
      "wrote gif\n",
      "wrote gif\n",
      "wrote gif\n",
      "wrote gif\n",
      "wrote gif\n",
      "wrote gif\n",
      "wrote gif\n",
      "wrote gif\n",
      "wrote gif\n",
      "wrote gif\n",
      "wrote gif\n",
      "wrote gif\n",
      "wrote gif\n",
      "wrote gif\n",
      "wrote gif\n",
      "wrote gif\n",
      "wrote gif\n",
      "wrote gif\n",
      "wrote gif\n",
      "wrote gif\n",
      "wrote gif\n",
      "wrote gif\n",
      "wrote gif\n",
      "wrote gif\n",
      "wrote gif\n",
      "wrote gif\n",
      "wrote gif\n",
      "wrote gif\n",
      "wrote gif\n",
      "wrote gif\n",
      "wrote gif\n",
      "wrote gif\n",
      "wrote gif\n",
      "wrote gif\n",
      "wrote gif\n",
      "wrote gif\n",
      "wrote gif\n",
      "wrote gif\n",
      "wrote gif\n",
      "wrote gif\n",
      "wrote gif\n",
      "wrote gif\n",
      "wrote gif\n",
      "wrote gif\n",
      "wrote gif\n",
      "wrote gif\n",
      "wrote gif\n",
      "wrote gif\n",
      "wrote gif\n",
      "wrote gif\n",
      "wrote gif\n",
      "wrote gif\n",
      "wrote gif\n",
      "wrote gif\n",
      "wrote gif\n",
      "wrote gif\n",
      "wrote gif\n",
      "wrote gif\n",
      "wrote gif\n",
      "wrote gif\n",
      "wrote gif\n",
      "wrote gif\n",
      "wrote gif\n",
      "wrote gif\n",
      "wrote gif\n",
      "wrote gif\n",
      "wrote gif\n",
      "wrote gif\n",
      "wrote gif\n",
      "wrote gif\n",
      "wrote gif\n",
      "wrote gif\n",
      "wrote gif\n",
      "wrote gif\n",
      "wrote gif\n",
      "wrote gif\n",
      "wrote gif\n",
      "wrote gif\n",
      "wrote gif\n",
      "wrote gif\n",
      "wrote gif\n",
      "wrote gif\n",
      "wrote gif\n",
      "wrote gif\n"
     ]
    }
   ],
   "source": [
    "# for idx, val in np.ndenumerate(world):\n",
    "#     agent = Agent()\n",
    "#     agent.setPos(idx)\n",
    "\n",
    "#     for action in range(0,5):\n",
    "#         images = list()\n",
    "#         images.append(renderWorld(scale=20,agents=[agent.getPos('mat')], world=world,human=(2,2),humanPath=[(2,2),(1,2)]))\n",
    "        \n",
    "#         agent.emulateStep(action)\n",
    "#         if(isValid(agent.getEmulatedStep(), world.shape)):\n",
    "#             initialDistance = np.sum(np.square(agent.getPos() - np.array([2,2])))\n",
    "#             finalDistance = np.sum(np.square(agent.getEmulatedStep() - np.array([1,2])))\n",
    "#             images.append(renderWorld(scale=20,agents=[agent.getEmulatedStep('mat')], world=world,human=(1,2), humanPath=[(2,2),(1,2)], humanStep=1))\n",
    "#             make_gif(images, '/media/data/TD/ReactiveMAPF/allActions2/'+str(idx)+'_'+str(action)+'_'+str(initialDistance)+'_'+str(finalDistance)+'.gif')\n",
    "            "
   ]
  },
  {
   "cell_type": "code",
   "execution_count": 97,
   "metadata": {},
   "outputs": [
    {
     "data": {
      "text/plain": [
       "<matplotlib.image.AxesImage at 0x7f192ad6f280>"
      ]
     },
     "execution_count": 97,
     "metadata": {},
     "output_type": "execute_result"
    },
    {
     "data": {
      "image/png": "[encoded data removed]",
      "text/plain": [
       "<Figure size 640x480 with 1 Axes>"
      ]
     },
     "metadata": {},
     "output_type": "display_data"
    }
   ],
   "source": [
    "plt.imshow(renderWorld(scale=20, world=world,human=(2,2), humanPath=[(2,2),(1,2)]))"
   ]
  },
  {
   "cell_type": "code",
   "execution_count": 104,
   "metadata": {},
   "outputs": [],
   "source": [
    "import os\n",
    "os.chdir('/media/data/TD/ReactiveMAPF/allActions2')\n",
    "temp = os.listdir()"
   ]
  },
  {
   "cell_type": "code",
   "execution_count": 105,
   "metadata": {},
   "outputs": [],
   "source": [
    "import re\n",
    "ints = []\n",
    "for i in temp:\n",
    "    ints.append((re.findall(r'\\d+',i)))"
   ]
  },
  {
   "cell_type": "code",
   "execution_count": 107,
   "metadata": {},
   "outputs": [
    {
     "name": "stdout",
     "output_type": "stream",
     "text": [
      "(3, 2)_1_1_5.gif\n",
      "(3, 3)_0_2_5.gif\n",
      "(1, 3)_1_2_4.gif\n",
      "(2, 3)_1_1_5.gif\n",
      "(3, 1)_1_2_4.gif\n",
      "(3, 2)_0_1_4.gif\n",
      "(3, 1)_0_2_5.gif\n",
      "(3, 3)_3_2_4.gif\n",
      "(1, 1)_3_2_4.gif\n",
      "(3, 2)_3_1_5.gif\n",
      "(2, 2)_2_0_4.gif\n",
      "(2, 1)_3_1_5.gif\n",
      "(2, 3)_2_1_5.gif\n",
      "(2, 1)_2_1_5.gif\n"
     ]
    }
   ],
   "source": [
    "for idx, val in enumerate(ints):\n",
    "    if(int(val[-2])<4 and int(val[-1])<7 and int(val[-1])>3):\n",
    "        print(temp[idx])"
   ]
  }
 ],
 "metadata": {
  "kernelspec": {
   "display_name": "td_env",
   "language": "python",
   "name": "python3"
  },
  "language_info": {
   "codemirror_mode": {
    "name": "ipython",
    "version": 3
   },
   "file_extension": ".py",
   "mimetype": "text/x-python",
   "name": "python",
   "nbconvert_exporter": "python",
   "pygments_lexer": "ipython3",
   "version": "3.9.16"
  },
  "orig_nbformat": 4
 },
 "nbformat": 4,
 "nbformat_minor": 2
}
